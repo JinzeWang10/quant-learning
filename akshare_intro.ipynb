{
 "cells": [
  {
   "cell_type": "markdown",
   "id": "a84f0584",
   "metadata": {},
   "source": [
    "# AkShare 新手入门教程\n",
    "欢迎使用本教程！本Notebook将带你一步步学习如何使用AkShare获取金融数据。"
   ]
  },
  {
   "cell_type": "code",
   "execution_count": 1,
   "id": "2dc23417",
   "metadata": {},
   "outputs": [
    {
     "name": "stderr",
     "output_type": "stream",
     "text": [
      "C:\\Users\\Jinze Wang\\AppData\\Roaming\\Python\\Python311\\site-packages\\pandas\\core\\arrays\\masked.py:61: UserWarning: Pandas requires version '1.3.6' or newer of 'bottleneck' (version '1.3.5' currently installed).\n",
      "  from pandas.core import (\n"
     ]
    }
   ],
   "source": [
    "import akshare as ak\n",
    "import pandas as pd\n",
    "import matplotlib.pyplot as plt\n",
    "%matplotlib inline\n"
   ]
  },
  {
   "cell_type": "markdown",
   "id": "5d67b10f",
   "metadata": {},
   "source": [
    "## 获取 A 股实时行情"
   ]
  },
  {
   "cell_type": "code",
   "execution_count": 2,
   "id": "b89b7a15",
   "metadata": {},
   "outputs": [
    {
     "data": {
      "application/vnd.jupyter.widget-view+json": {
       "model_id": "33fee80d809b4381afa37d09e6f5be11",
       "version_major": 2,
       "version_minor": 0
      },
      "text/plain": [
       "Please wait for a moment:   0%|          | 0/68 [00:00<?, ?it/s]"
      ]
     },
     "metadata": {},
     "output_type": "display_data"
    },
    {
     "data": {
      "text/html": [
       "<div>\n",
       "<style scoped>\n",
       "    .dataframe tbody tr th:only-of-type {\n",
       "        vertical-align: middle;\n",
       "    }\n",
       "\n",
       "    .dataframe tbody tr th {\n",
       "        vertical-align: top;\n",
       "    }\n",
       "\n",
       "    .dataframe thead th {\n",
       "        text-align: right;\n",
       "    }\n",
       "</style>\n",
       "<table border=\"1\" class=\"dataframe\">\n",
       "  <thead>\n",
       "    <tr style=\"text-align: right;\">\n",
       "      <th></th>\n",
       "      <th>代码</th>\n",
       "      <th>名称</th>\n",
       "      <th>最新价</th>\n",
       "      <th>涨跌额</th>\n",
       "      <th>涨跌幅</th>\n",
       "      <th>买入</th>\n",
       "      <th>卖出</th>\n",
       "      <th>昨收</th>\n",
       "      <th>今开</th>\n",
       "      <th>最高</th>\n",
       "      <th>最低</th>\n",
       "      <th>成交量</th>\n",
       "      <th>成交额</th>\n",
       "      <th>时间戳</th>\n",
       "    </tr>\n",
       "  </thead>\n",
       "  <tbody>\n",
       "    <tr>\n",
       "      <th>0</th>\n",
       "      <td>bj430017</td>\n",
       "      <td>星昊医药</td>\n",
       "      <td>21.63</td>\n",
       "      <td>0.27</td>\n",
       "      <td>1.264</td>\n",
       "      <td>21.63</td>\n",
       "      <td>21.64</td>\n",
       "      <td>21.36</td>\n",
       "      <td>21.42</td>\n",
       "      <td>21.96</td>\n",
       "      <td>21.22</td>\n",
       "      <td>5191282.0</td>\n",
       "      <td>112451504.0</td>\n",
       "      <td>15:30:00</td>\n",
       "    </tr>\n",
       "    <tr>\n",
       "      <th>1</th>\n",
       "      <td>bj430047</td>\n",
       "      <td>诺思兰德</td>\n",
       "      <td>21.37</td>\n",
       "      <td>0.96</td>\n",
       "      <td>4.704</td>\n",
       "      <td>21.36</td>\n",
       "      <td>21.37</td>\n",
       "      <td>20.41</td>\n",
       "      <td>20.20</td>\n",
       "      <td>21.90</td>\n",
       "      <td>20.05</td>\n",
       "      <td>6380942.0</td>\n",
       "      <td>133929819.0</td>\n",
       "      <td>15:30:00</td>\n",
       "    </tr>\n",
       "    <tr>\n",
       "      <th>2</th>\n",
       "      <td>bj430090</td>\n",
       "      <td>同辉信息</td>\n",
       "      <td>11.20</td>\n",
       "      <td>-1.01</td>\n",
       "      <td>-8.272</td>\n",
       "      <td>11.20</td>\n",
       "      <td>11.21</td>\n",
       "      <td>12.21</td>\n",
       "      <td>12.06</td>\n",
       "      <td>13.79</td>\n",
       "      <td>10.98</td>\n",
       "      <td>72968577.0</td>\n",
       "      <td>901564114.0</td>\n",
       "      <td>15:30:00</td>\n",
       "    </tr>\n",
       "    <tr>\n",
       "      <th>3</th>\n",
       "      <td>bj430139</td>\n",
       "      <td>华岭股份</td>\n",
       "      <td>26.88</td>\n",
       "      <td>0.57</td>\n",
       "      <td>2.166</td>\n",
       "      <td>26.88</td>\n",
       "      <td>26.89</td>\n",
       "      <td>26.31</td>\n",
       "      <td>27.32</td>\n",
       "      <td>27.99</td>\n",
       "      <td>26.50</td>\n",
       "      <td>16468067.0</td>\n",
       "      <td>447653767.0</td>\n",
       "      <td>15:30:00</td>\n",
       "    </tr>\n",
       "    <tr>\n",
       "      <th>4</th>\n",
       "      <td>bj430198</td>\n",
       "      <td>微创光电</td>\n",
       "      <td>14.00</td>\n",
       "      <td>0.31</td>\n",
       "      <td>2.264</td>\n",
       "      <td>13.99</td>\n",
       "      <td>14.00</td>\n",
       "      <td>13.69</td>\n",
       "      <td>13.80</td>\n",
       "      <td>14.05</td>\n",
       "      <td>13.66</td>\n",
       "      <td>3874259.0</td>\n",
       "      <td>53850941.0</td>\n",
       "      <td>15:30:00</td>\n",
       "    </tr>\n",
       "  </tbody>\n",
       "</table>\n",
       "</div>"
      ],
      "text/plain": [
       "         代码    名称    最新价   涨跌额    涨跌幅     买入     卖出     昨收     今开     最高  \\\n",
       "0  bj430017  星昊医药  21.63  0.27  1.264  21.63  21.64  21.36  21.42  21.96   \n",
       "1  bj430047  诺思兰德  21.37  0.96  4.704  21.36  21.37  20.41  20.20  21.90   \n",
       "2  bj430090  同辉信息  11.20 -1.01 -8.272  11.20  11.21  12.21  12.06  13.79   \n",
       "3  bj430139  华岭股份  26.88  0.57  2.166  26.88  26.89  26.31  27.32  27.99   \n",
       "4  bj430198  微创光电  14.00  0.31  2.264  13.99  14.00  13.69  13.80  14.05   \n",
       "\n",
       "      最低         成交量          成交额       时间戳  \n",
       "0  21.22   5191282.0  112451504.0  15:30:00  \n",
       "1  20.05   6380942.0  133929819.0  15:30:00  \n",
       "2  10.98  72968577.0  901564114.0  15:30:00  \n",
       "3  26.50  16468067.0  447653767.0  15:30:00  \n",
       "4  13.66   3874259.0   53850941.0  15:30:00  "
      ]
     },
     "execution_count": 2,
     "metadata": {},
     "output_type": "execute_result"
    }
   ],
   "source": [
    "# 获取沪深A股实时行情\n",
    "stock_zh_a_spot_df = ak.stock_zh_a_spot()\n",
    "stock_zh_a_spot_df.head()\n"
   ]
  },
  {
   "cell_type": "markdown",
   "id": "8df379ba",
   "metadata": {},
   "source": [
    "## 获取单只股票历史行情"
   ]
  },
  {
   "cell_type": "code",
   "execution_count": null,
   "id": "3fc2c6f2",
   "metadata": {},
   "outputs": [],
   "source": [
    "# 获取000001 平安银行 的历史行情数据（日线）\n",
    "stock_hist_df = ak.stock_zh_a_hist(symbol=\"000001\", period=\"daily\", start_date=\"20230101\", end_date=\"20231231\")\n",
    "stock_hist_df.head()\n"
   ]
  },
  {
   "cell_type": "markdown",
   "id": "19da45fb",
   "metadata": {},
   "source": [
    "## 可视化股票收盘价"
   ]
  },
  {
   "cell_type": "code",
   "execution_count": null,
   "id": "32162f42",
   "metadata": {},
   "outputs": [],
   "source": [
    "stock_hist_df[\"日期\"] = pd.to_datetime(stock_hist_df[\"日期\"])\n",
    "plt.figure(figsize=(12, 5))\n",
    "plt.plot(stock_hist_df[\"日期\"], stock_hist_df[\"收盘\"], label=\"Close Price\")\n",
    "plt.title(\"平安银行 收盘价（2023年）\")\n",
    "plt.xlabel(\"日期\")\n",
    "plt.ylabel(\"收盘价\")\n",
    "plt.legend()\n",
    "plt.grid(True)\n",
    "plt.show()\n"
   ]
  },
  {
   "cell_type": "markdown",
   "id": "911af594",
   "metadata": {},
   "source": [
    "## 获取中国GDP年度数据"
   ]
  },
  {
   "cell_type": "code",
   "execution_count": null,
   "id": "d04d7fe5",
   "metadata": {},
   "outputs": [],
   "source": [
    "macro_gdp_df = ak.macro_china_gdp_yearly()\n",
    "macro_gdp_df.tail()\n"
   ]
  },
  {
   "cell_type": "code",
   "execution_count": null,
   "id": "2794d6b2",
   "metadata": {},
   "outputs": [],
   "source": [
    "plt.figure(figsize=(10, 5))\n",
    "plt.bar(macro_gdp_df[\"年份\"].astype(str), macro_gdp_df[\"GDP(亿元)\"])\n",
    "plt.title(\"中国年度GDP\")\n",
    "plt.xlabel(\"年份\")\n",
    "plt.ylabel(\"GDP (亿元)\")\n",
    "plt.xticks(rotation=45)\n",
    "plt.tight_layout()\n",
    "plt.show()\n"
   ]
  },
  {
   "cell_type": "markdown",
   "id": "be4cf58e",
   "metadata": {},
   "source": [
    "本教程只是一个开始，AkShare 还能获取期货、期权、港美股、基金、债券、外汇等海量数据。你可以继续查阅官方文档了解更多用法。"
   ]
  }
 ],
 "metadata": {
  "kernelspec": {
   "display_name": "base",
   "language": "python",
   "name": "python3"
  },
  "language_info": {
   "codemirror_mode": {
    "name": "ipython",
    "version": 3
   },
   "file_extension": ".py",
   "mimetype": "text/x-python",
   "name": "python",
   "nbconvert_exporter": "python",
   "pygments_lexer": "ipython3",
   "version": "3.11.5"
  }
 },
 "nbformat": 4,
 "nbformat_minor": 5
}
