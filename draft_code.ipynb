{
 "cells": [
  {
   "cell_type": "code",
   "execution_count": 1,
   "id": "65b5e1fd",
   "metadata": {},
   "outputs": [],
   "source": [
    "list1 = [1,2,3,4,5]"
   ]
  },
  {
   "cell_type": "code",
   "execution_count": null,
   "id": "bda9c0bc",
   "metadata": {},
   "outputs": [],
   "source": [
    "# access data in list -- indexing\n",
    "list1[0]\n",
    "\n",
    "# access data in list -- slicing\n",
    "new_list = []\n",
    "for i in range(0, 3):\n",
    "    new_list.append(list1[i])\n",
    "\n",
    "new_list = list1[0:3]"
   ]
  },
  {
   "cell_type": "code",
   "execution_count": 9,
   "id": "9d967497",
   "metadata": {},
   "outputs": [
    {
     "data": {
      "text/plain": [
       "[5, 4, 3, 2, 1]"
      ]
     },
     "execution_count": 9,
     "metadata": {},
     "output_type": "execute_result"
    }
   ],
   "source": [
    "# new_list = list1[3:0:-1]\n",
    "# new_list\n",
    "\n",
    "# reverse a list\n",
    "list1[::-1]"
   ]
  },
  {
   "cell_type": "code",
   "execution_count": null,
   "id": "ae34459f",
   "metadata": {},
   "outputs": [],
   "source": [
    "# slicing -- list[start_idx: end_idx : step_size]"
   ]
  },
  {
   "cell_type": "code",
   "execution_count": null,
   "id": "6f266b59",
   "metadata": {},
   "outputs": [],
   "source": [
    "# sort\n",
    "list2 = [1,6,3,2,5]\n",
    "# method 1 inplace sort\n",
    "list2.sort()"
   ]
  },
  {
   "cell_type": "code",
   "execution_count": 18,
   "id": "635fa0b0",
   "metadata": {},
   "outputs": [],
   "source": [
    "list2 = [1,6,3,2,5]\n",
    "# method 2 return a new sorted list\n",
    "list3 = sorted(list2, reverse=True)"
   ]
  },
  {
   "cell_type": "code",
   "execution_count": null,
   "id": "93fa2919",
   "metadata": {},
   "outputs": [
    {
     "name": "stdout",
     "output_type": "stream",
     "text": [
      "1\n",
      "6\n",
      "3\n",
      "2\n",
      "5\n"
     ]
    }
   ],
   "source": [
    "# traversing a list\n",
    "# index based\n",
    "for i in range(len(list2)):\n",
    "    print(list2[i])"
   ]
  },
  {
   "cell_type": "code",
   "execution_count": 24,
   "id": "30aa2ca0",
   "metadata": {},
   "outputs": [
    {
     "name": "stdout",
     "output_type": "stream",
     "text": [
      "1\n",
      "6\n",
      "3\n",
      "2\n",
      "5\n"
     ]
    }
   ],
   "source": [
    "# element based\n",
    "for element in list2:\n",
    "    print(element)"
   ]
  },
  {
   "cell_type": "code",
   "execution_count": 21,
   "id": "4222cab4",
   "metadata": {},
   "outputs": [
    {
     "data": {
      "text/plain": [
       "['John', 'Tom']"
      ]
     },
     "execution_count": 21,
     "metadata": {},
     "output_type": "execute_result"
    }
   ],
   "source": [
    "# dict : key-value pairs\n",
    "dict1 = {'name': ['John','Tom'], 'age': 30, 'city': 'New York'}\n",
    "# dict -- unique keys\n",
    "# access data in dict -- indexing\n",
    "dict1['name']\n"
   ]
  },
  {
   "cell_type": "code",
   "execution_count": 30,
   "id": "7077dfba",
   "metadata": {},
   "outputs": [
    {
     "name": "stdout",
     "output_type": "stream",
     "text": [
      "name ['John', 'Tom']\n",
      "age 30\n",
      "city New York\n"
     ]
    }
   ],
   "source": [
    "for key,value in dict1.items():\n",
    "    print(key, value)"
   ]
  },
  {
   "cell_type": "code",
   "execution_count": 27,
   "id": "bf8320e4",
   "metadata": {},
   "outputs": [
    {
     "data": {
      "text/plain": [
       "dict_values([['John', 'Tom'], 30, 'New York'])"
      ]
     },
     "execution_count": 27,
     "metadata": {},
     "output_type": "execute_result"
    }
   ],
   "source": [
    "dict1.keys()  # get all keys\n",
    "dict1.values()  # get all values"
   ]
  },
  {
   "cell_type": "code",
   "execution_count": null,
   "id": "b28f90fc",
   "metadata": {},
   "outputs": [],
   "source": [
    "# for loop\n",
    "for key in dict1:"
   ]
  },
  {
   "cell_type": "code",
   "execution_count": null,
   "id": "96f337b6",
   "metadata": {},
   "outputs": [],
   "source": [
    "# if-else\n",
    "if condition1:\n",
    "    # do something\n",
    "elif condition2:\n",
    "    # do something else\n",
    "    pass\n",
    "else:\n",
    "    # do something different\n",
    "    pass"
   ]
  },
  {
   "cell_type": "code",
   "execution_count": null,
   "id": "dab0e25a",
   "metadata": {},
   "outputs": [],
   "source": [
    "# while loop\n",
    "while condition:\n",
    "    # key point: termination condition\n",
    "    \n",
    "    # do something\n",
    "    if condition_to_terminate:\n",
    "        break\n",
    "    pass\n",
    "\n"
   ]
  },
  {
   "cell_type": "code",
   "execution_count": null,
   "id": "ff5516f3",
   "metadata": {},
   "outputs": [],
   "source": [
    "[1,2,3,4,5,6,7,8,9]"
   ]
  },
  {
   "cell_type": "code",
   "execution_count": 34,
   "id": "3b1a549b",
   "metadata": {},
   "outputs": [
    {
     "name": "stdout",
     "output_type": "stream",
     "text": [
      "[1, 2, 3]\n",
      "1\n",
      "[4, 5, 6]\n",
      "4\n",
      "[7, 8, 9]\n",
      "7\n"
     ]
    }
   ],
   "source": [
    "nested_list = [[1,2,3], [4,5,6], [7,8,9]]\n",
    "for i in range(len(nested_list)):\n",
    "    print(nested_list[i])\n",
    "    for element in nested_list[i]:\n",
    "        print(element)\n",
    "        break\n",
    "    # here\n"
   ]
  },
  {
   "cell_type": "code",
   "execution_count": null,
   "id": "14f88790",
   "metadata": {},
   "outputs": [
    {
     "name": "stdout",
     "output_type": "stream",
     "text": [
      "1\n",
      "2\n",
      "3\n"
     ]
    }
   ],
   "source": [
    "nested_list = [1,2,3]\n",
    "for element in nested_list:\n",
    "    pass\n",
    "    print(element)\n",
    "    "
   ]
  },
  {
   "cell_type": "code",
   "execution_count": 38,
   "id": "85906a72",
   "metadata": {},
   "outputs": [],
   "source": [
    "nested_list = [1,2,3]\n",
    "for element in nested_list:\n",
    "    continue\n",
    "    print(element)\n"
   ]
  },
  {
   "cell_type": "code",
   "execution_count": null,
   "id": "9ba29d6f",
   "metadata": {},
   "outputs": [],
   "source": [
    "# break pass continue\n",
    "# break: exit the current loop\n",
    "# continue: skip the current iteration and continue with the next\n",
    "# pass: do nothing, just a placeholder"
   ]
  },
  {
   "cell_type": "code",
   "execution_count": null,
   "id": "8a924fe3",
   "metadata": {},
   "outputs": [],
   "source": [
    "if condition1:\n",
    "    # do something\n",
    "elif condition2:\n",
    "    # do something else\n",
    "    pass\n",
    "else:\n",
    "    # do something different\n",
    "    # do something"
   ]
  },
  {
   "cell_type": "code",
   "execution_count": null,
   "id": "9dba3521",
   "metadata": {},
   "outputs": [],
   "source": [
    "if "
   ]
  }
 ],
 "metadata": {
  "kernelspec": {
   "display_name": "base",
   "language": "python",
   "name": "python3"
  },
  "language_info": {
   "codemirror_mode": {
    "name": "ipython",
    "version": 3
   },
   "file_extension": ".py",
   "mimetype": "text/x-python",
   "name": "python",
   "nbconvert_exporter": "python",
   "pygments_lexer": "ipython3",
   "version": "3.11.5"
  }
 },
 "nbformat": 4,
 "nbformat_minor": 5
}
